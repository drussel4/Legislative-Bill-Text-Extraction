{
 "cells": [
  {
   "cell_type": "code",
   "execution_count": 2,
   "metadata": {},
   "outputs": [],
   "source": [
    "# pip install PyPDF2"
   ]
  },
  {
   "cell_type": "code",
   "execution_count": 117,
   "metadata": {},
   "outputs": [],
   "source": [
    "# Import libraries\n",
    "import PyPDF2 as pydf\n",
    "import re\n",
    "import pandas as pd"
   ]
  },
  {
   "cell_type": "code",
   "execution_count": 4,
   "metadata": {},
   "outputs": [],
   "source": [
    "# Set path of pdf to extract\n",
    "pdf_filepath = 'C:\\\\Users\\\\Dave\\\\Desktop\\\\Job Apps\\\\Legislative Assistant, Senator Marcus\\\\Marcus Primary Bills\\\\Election Protection Covid-19 Pandemic.pdf'"
   ]
  },
  {
   "cell_type": "code",
   "execution_count": 5,
   "metadata": {},
   "outputs": [],
   "source": [
    "# Create pdf object and retrieve page count \n",
    "pdf = pydf.PdfFileReader(open(pdf_filepath, 'rb'))\n",
    "num_pages = pdf.getNumPages()"
   ]
  },
  {
   "cell_type": "code",
   "execution_count": 88,
   "metadata": {},
   "outputs": [],
   "source": [
    "# Function to extract text from pdf, page by page, and write to dict\n",
    "def text_extractor(path):\n",
    "    pages_dict = {}\n",
    "    with open(pdf_filepath, 'rb') as file:\n",
    "        pdf = pydf.PdfFileReader(file)\n",
    "        for i in list(range(0, num_pages)):\n",
    "            page = pdf.getPage(i)\n",
    "            pages_dict[i+1] = page.extractText()\n",
    "    return pages_dict;"
   ]
  },
  {
   "cell_type": "code",
   "execution_count": 89,
   "metadata": {},
   "outputs": [],
   "source": [
    "# Run function\n",
    "pages_dict = text_extractor(pdf_filepath)"
   ]
  },
  {
   "cell_type": "code",
   "execution_count": 94,
   "metadata": {},
   "outputs": [],
   "source": [
    "# Function to concatenate text from pages to single string\n",
    "def page_compiler(pages_dict):\n",
    "    full_text = ''\n",
    "    for page in pages_dict.keys():\n",
    "        full_text = full_text + pages_dict[page]\n",
    "    return full_text;"
   ]
  },
  {
   "cell_type": "code",
   "execution_count": 95,
   "metadata": {},
   "outputs": [],
   "source": [
    "# Run function\n",
    "full_text = page_compiler(pages_dict)"
   ]
  },
  {
   "cell_type": "code",
   "execution_count": 101,
   "metadata": {},
   "outputs": [],
   "source": [
    "words_to_skip_list = ['a', 'the', 'an', 'of', 'be', 'to', 'when', 'where', 'which',\n",
    "                      'north', 'carolina', 'session']"
   ]
  },
  {
   "cell_type": "code",
   "execution_count": 99,
   "metadata": {},
   "outputs": [],
   "source": [
    "test = re.findall(r'\\w+', full_text)"
   ]
  },
  {
   "cell_type": "code",
   "execution_count": 112,
   "metadata": {},
   "outputs": [],
   "source": [
    "test_unique = list(set(test))"
   ]
  },
  {
   "cell_type": "code",
   "execution_count": 113,
   "metadata": {},
   "outputs": [],
   "source": [
    "test_unique.sort(reverse=False)"
   ]
  },
  {
   "cell_type": "code",
   "execution_count": 115,
   "metadata": {},
   "outputs": [
    {
     "name": "stdout",
     "output_type": "stream",
     "text": [
      "Skipping a\n",
      "Skipping an\n",
      "Skipping be\n",
      "Skipping of\n",
      "Skipping the\n",
      "Skipping to\n",
      "Skipping when\n",
      "Skipping which\n"
     ]
    }
   ],
   "source": [
    "word_counts_dict = {}\n",
    "for word in test_unique:\n",
    "    if word in words_to_skip_list:\n",
    "        print('Skipping {}'.format(word))\n",
    "    else:\n",
    "        count = full_text.count(word)\n",
    "        word_counts_dict[word] = count"
   ]
  },
  {
   "cell_type": "code",
   "execution_count": 120,
   "metadata": {},
   "outputs": [],
   "source": [
    "test_df = pd.DataFrame.from_dict(word_counts_dict, orient='index', columns=['Count'])"
   ]
  },
  {
   "cell_type": "code",
   "execution_count": 121,
   "metadata": {},
   "outputs": [],
   "source": [
    "test_df.sort_values('Count', ascending=False, inplace=True)"
   ]
  },
  {
   "cell_type": "code",
   "execution_count": 124,
   "metadata": {},
   "outputs": [
    {
     "data": {
      "text/html": [
       "<div>\n",
       "<style scoped>\n",
       "    .dataframe tbody tr th:only-of-type {\n",
       "        vertical-align: middle;\n",
       "    }\n",
       "\n",
       "    .dataframe tbody tr th {\n",
       "        vertical-align: top;\n",
       "    }\n",
       "\n",
       "    .dataframe thead th {\n",
       "        text-align: right;\n",
       "    }\n",
       "</style>\n",
       "<table border=\"1\" class=\"dataframe\">\n",
       "  <thead>\n",
       "    <tr style=\"text-align: right;\">\n",
       "      <th></th>\n",
       "      <th>Count</th>\n",
       "    </tr>\n",
       "  </thead>\n",
       "  <tbody>\n",
       "    <tr>\n",
       "      <th>e</th>\n",
       "      <td>2193</td>\n",
       "    </tr>\n",
       "    <tr>\n",
       "      <th>t</th>\n",
       "      <td>1678</td>\n",
       "    </tr>\n",
       "    <tr>\n",
       "      <th>o</th>\n",
       "      <td>1407</td>\n",
       "    </tr>\n",
       "    <tr>\n",
       "      <th>i</th>\n",
       "      <td>1354</td>\n",
       "    </tr>\n",
       "    <tr>\n",
       "      <th>n</th>\n",
       "      <td>1342</td>\n",
       "    </tr>\n",
       "    <tr>\n",
       "      <th>...</th>\n",
       "      <td>...</td>\n",
       "    </tr>\n",
       "    <tr>\n",
       "      <th>with</th>\n",
       "      <td>29</td>\n",
       "    </tr>\n",
       "    <tr>\n",
       "      <th>23</th>\n",
       "      <td>28</td>\n",
       "    </tr>\n",
       "    <tr>\n",
       "      <th>this</th>\n",
       "      <td>28</td>\n",
       "    </tr>\n",
       "    <tr>\n",
       "      <th>voting</th>\n",
       "      <td>28</td>\n",
       "    </tr>\n",
       "    <tr>\n",
       "      <th>State</th>\n",
       "      <td>28</td>\n",
       "    </tr>\n",
       "  </tbody>\n",
       "</table>\n",
       "<p>100 rows × 1 columns</p>\n",
       "</div>"
      ],
      "text/plain": [
       "        Count\n",
       "e        2193\n",
       "t        1678\n",
       "o        1407\n",
       "i        1354\n",
       "n        1342\n",
       "...       ...\n",
       "with       29\n",
       "23         28\n",
       "this       28\n",
       "voting     28\n",
       "State      28\n",
       "\n",
       "[100 rows x 1 columns]"
      ]
     },
     "execution_count": 124,
     "metadata": {},
     "output_type": "execute_result"
    }
   ],
   "source": [
    "test_df[0:100]"
   ]
  },
  {
   "cell_type": "code",
   "execution_count": 98,
   "metadata": {},
   "outputs": [],
   "source": [
    "# # Function to retrieve unique words in pdf, build counts of each word\n",
    "# def word_counter(pdf_string):\n",
    "    "
   ]
  },
  {
   "cell_type": "code",
   "execution_count": 81,
   "metadata": {},
   "outputs": [
    {
     "name": "stdout",
     "output_type": "stream",
     "text": [
      "The original string is : Tutorials point is a learning platform\n",
      "The number of words in string are : 6\n"
     ]
    }
   ],
   "source": [
    "test_string = \"Tutorials point is a learning platform\"\n",
    "# original string\n",
    "print (\"The original string is : \" + test_string)\n",
    "# using regex (findall()) function\n",
    "res = len(re.findall(r'\\w+', test_string))\n",
    "# total no of words\n",
    "print (\"The number of words in string are : \" + str(res))"
   ]
  },
  {
   "cell_type": "code",
   "execution_count": 82,
   "metadata": {},
   "outputs": [
    {
     "data": {
      "text/plain": [
       "['Tutorials', 'point', 'is', 'a', 'learning', 'platform']"
      ]
     },
     "execution_count": 82,
     "metadata": {},
     "output_type": "execute_result"
    }
   ],
   "source": [
    "re.findall(r'\\w+', test_string)"
   ]
  },
  {
   "cell_type": "code",
   "execution_count": null,
   "metadata": {},
   "outputs": [],
   "source": []
  }
 ],
 "metadata": {
  "kernelspec": {
   "display_name": "Python 3",
   "language": "python",
   "name": "python3"
  },
  "language_info": {
   "codemirror_mode": {
    "name": "ipython",
    "version": 3
   },
   "file_extension": ".py",
   "mimetype": "text/x-python",
   "name": "python",
   "nbconvert_exporter": "python",
   "pygments_lexer": "ipython3",
   "version": "3.7.6"
  }
 },
 "nbformat": 4,
 "nbformat_minor": 4
}
