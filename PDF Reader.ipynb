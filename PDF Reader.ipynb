{
 "cells": [
  {
   "cell_type": "code",
   "execution_count": 1,
   "metadata": {},
   "outputs": [],
   "source": [
    "# pip install PyPDF2"
   ]
  },
  {
   "cell_type": "code",
   "execution_count": 2,
   "metadata": {},
   "outputs": [],
   "source": [
    "# pip install PyPDF2"
   ]
  },
  {
   "cell_type": "code",
   "execution_count": 3,
   "metadata": {},
   "outputs": [],
   "source": [
    "# pip install selenium"
   ]
  },
  {
   "cell_type": "code",
   "execution_count": 4,
   "metadata": {},
   "outputs": [],
   "source": [
    "# Import libraries\n",
    "import PyPDF2 as pydf\n",
    "import re\n",
    "import pandas as pd\n",
    "\n",
    "from selenium import webdriver\n",
    "from selenium.webdriver.common.action_chains import ActionChains\n",
    "from selenium.webdriver.support.ui import Select\n",
    "from selenium.webdriver.common.keys import Keys\n",
    "import os\n",
    "import time"
   ]
  },
  {
   "cell_type": "code",
   "execution_count": 5,
   "metadata": {},
   "outputs": [],
   "source": [
    "# Align driver\n",
    "DRIVER_PATH = '\\\\Users\\\\Dave\\\\Desktop\\\\Python\\\\chromedriver\\\\chromedriver.exe'\n",
    "# driver = webdriver.Chrome(executable_path=DRIVER_PATH)"
   ]
  },
  {
   "cell_type": "markdown",
   "metadata": {},
   "source": [
    "## <font color='teal'>Retrieve PDFs</font>"
   ]
  },
  {
   "cell_type": "code",
   "execution_count": 6,
   "metadata": {},
   "outputs": [],
   "source": [
    "# Download location\n",
    "primary_bills_download_folder = 'C:\\\\Users\\\\Dave\\\\Desktop\\\\Job Apps\\\\Legislative Assistant, Senator Marcus\\\\Marcus Primary Bills'"
   ]
  },
  {
   "cell_type": "code",
   "execution_count": 22,
   "metadata": {},
   "outputs": [],
   "source": [
    "# Update Chrome settings to allow for pdf downloads\n",
    "options = webdriver.ChromeOptions()\n",
    "options.add_experimental_option('prefs', {\n",
    "    'download.default_directory': primary_bills_download_folder, # Change default directory for downloads\n",
    "    'download.prompt_for_download': False, # To auto download the file\n",
    "    'download.directory_upgrade': True,\n",
    "    'plugins.always_open_pdf_externally': True # It will not show PDF directly in chrome\n",
    "})\n",
    "driver = webdriver.Chrome(executable_path=DRIVER_PATH, options=options)"
   ]
  },
  {
   "cell_type": "code",
   "execution_count": 23,
   "metadata": {},
   "outputs": [],
   "source": [
    "ncleg_search = 'https://www.ncleg.gov/Search/BillText'\n",
    "search_keys = 'Marcus'\n",
    "session_keys = '2019-2020 Session'"
   ]
  },
  {
   "cell_type": "code",
   "execution_count": 24,
   "metadata": {},
   "outputs": [],
   "source": [
    "search_dropdown_xpath = '//*[@id=\"gsSearch\"]'\n",
    "search_input_xpath = '//*[@id=\"sSearchText\"]'\n",
    "session_dropdown_xpath = '//*[@id=\"sSession_chosen\"]'\n",
    "session_autocomplete_xpath = '//*[@id=\"sSession_chosen\"]/div/div/input'\n",
    "search_button_xpath = '//*[@id=\"billTextSearchForm\"]/div/div[6]/button'"
   ]
  },
  {
   "cell_type": "code",
   "execution_count": 25,
   "metadata": {},
   "outputs": [],
   "source": [
    "# Navigate to ncleg search site\n",
    "driver.get(ncleg_search)"
   ]
  },
  {
   "cell_type": "code",
   "execution_count": 26,
   "metadata": {},
   "outputs": [
    {
     "name": "stderr",
     "output_type": "stream",
     "text": [
      "C:\\Users\\Dave\\anaconda3\\lib\\site-packages\\ipykernel_launcher.py:16: DeprecationWarning: use driver.switch_to.active_element instead\n",
      "  app.launch_new_instance()\n"
     ]
    }
   ],
   "source": [
    "# Fill in Search options\n",
    "\n",
    "# Open the Search dropdown (this dropdown should\n",
    "# already be open, so no need to click\n",
    "# # driver.find_element_by_xpath(search_dropdown_xpath).click()\n",
    "\n",
    "# Send search info\n",
    "driver.find_element_by_xpath(search_input_xpath).clear() # First clear search\n",
    "driver.find_element_by_xpath(search_input_xpath).send_keys(search_keys) # Then send keywords\n",
    "\n",
    "# Click to expand dropdown, filter to desired sesseion\n",
    "driver.find_element_by_xpath(session_dropdown_xpath).click()\n",
    "driver.find_element_by_xpath(session_autocomplete_xpath).send_keys(session_keys)\n",
    "\n",
    "# Having filtered to sought option, select it\n",
    "active_element = driver.switch_to_active_element()\n",
    "active_element.send_keys(Keys.ENTER)\n",
    "\n",
    "# Press the Search button\n",
    "driver.find_element_by_xpath(search_button_xpath).click()"
   ]
  },
  {
   "cell_type": "code",
   "execution_count": null,
   "metadata": {},
   "outputs": [],
   "source": [
    "def retrieveBills():\n",
    "    # Loop to retrieve players by href\n",
    "    bills_list = []\n",
    "    elements = driver.find_elements_by_xpath('//a[contains(@href, \"/BillLookUp/\")]')\n",
    "    for element in elements:\n",
    "        bills_list.append(element)\n",
    "    num_bills = len(bills_list)\n",
    "    print('Identified {} bills to acquire.'.format(num_bills))\n",
    "    \n",
    "    for i in list(range(0, num_bills)):\n",
    "        # Need to rerun bills_list each time in order to refresh elements\n",
    "        bills_list = []\n",
    "        elements = driver.find_elements_by_xpath('//a[contains(@href, \"/BillLookUp/\")]')\n",
    "        for element in elements:\n",
    "            bills_list.append(element)\n",
    "        \n",
    "        # Navigate to bill specifics site\n",
    "        bills_list[i].click()\n",
    "        \n",
    "        ### Retrieve bill information, then download\n",
    "        \n",
    "        # Retrieve bill number and name\n",
    "        bill_number_xpath = '/html/body/div[1]/div/main/div[1]/div[3]'\n",
    "        bill_number = driver.find_element_by_xpath(bill_number_xpath).text\n",
    "        bill_name_xpath = '/html/body/div[1]/div/main/div[2]/div[1]/a'\n",
    "        bill_name = driver.find_element_by_xpath(bill_name_xpath).text\n",
    "\n",
    "        # Retrieve bill sponsors, clean and transform\n",
    "        bill_sponsors_xpath = '/html/body/div[1]/div/main/div[3]/div[2]/div/div[4]'\n",
    "        bill_sponsors = driver.find_element_by_xpath(bill_sponsors_xpath).text\n",
    "        bill_sponsors_cleaned = bill_sponsors.replace('\\n', ';').replace('(Primary)', '')\n",
    "        bill_sponsors_individual = bill_sponsors_cleaned.split(';')\n",
    "        bill_sponsors_individual_cleaned = []\n",
    "        for ind in bill_sponsors_individual:\n",
    "            bill_sponsors_individual_cleaned.append(ind.strip())\n",
    "\n",
    "        # Check which sponsor(s) is primary\n",
    "        bill_sponsors_dict = {}\n",
    "        for sp in bill_sponsors_individual_cleaned:\n",
    "            if bill_sponsors.find(sp) < bill_sponsors.find('Primary'):\n",
    "                bill_sponsors_dict[sp] = {'Primary':True}\n",
    "            else:\n",
    "                bill_sponsors_dict[sp] = {'Primary':False}\n",
    "\n",
    "        # Retrieve bill attributes\n",
    "        bill_attributes_xpath = '/html/body/div[1]/div/main/div[3]/div[2]/div/div[6]'\n",
    "        bill_attributes = driver.find_element_by_xpath(bill_attributes_xpath).text\n",
    "        if bill_attributes.split(';')[0] == 'Public':\n",
    "            bill_pub_loc = 'Public'\n",
    "        elif bill_attributes.split(';')[0] == 'Local':\n",
    "            bill_pub_loc = 'Local'\n",
    "        else:\n",
    "            bill_pub_loc = None\n",
    "\n",
    "        # Retrieve bill keywords\n",
    "        bill_keywords_xpath = '/html/body/div[1]/div/main/div[3]/div[2]/div/div[12]'\n",
    "        bill_keywords = driver.find_element_by_xpath(bill_keywords_xpath).text\n",
    "\n",
    "        # Store information about bill in dict\n",
    "        bill_dict = {}\n",
    "        bill_dict[bill_number] = {'Name':bill_name,\n",
    "                                  'Sponsors':bill_sponsors_dict,\n",
    "                                  'Breadth':bill_pub_loc,\n",
    "                                  'Keywords':bill_keywords}\n",
    "        \n",
    "        # Click to download pdf\n",
    "        driver.find_element_by_xpath(bill_name_xpath).click()\n",
    "        \n",
    "        "
   ]
  },
  {
   "cell_type": "code",
   "execution_count": 40,
   "metadata": {},
   "outputs": [],
   "source": [
    "# # Loop to retrieve players by href\n",
    "# bills_list = []\n",
    "# elements = driver.find_elements_by_xpath('//a[contains(@href, \"/BillLookUp/\")]')\n",
    "# for element in elements:\n",
    "#     bills_list.append(element)\n",
    "# print(len(bills_list))"
   ]
  },
  {
   "cell_type": "code",
   "execution_count": 41,
   "metadata": {},
   "outputs": [],
   "source": [
    "# # Navigate to bill specifics site\n",
    "# bills_list[1].click()"
   ]
  },
  {
   "cell_type": "code",
   "execution_count": 42,
   "metadata": {},
   "outputs": [],
   "source": [
    "# # Retrieve bill number and name\n",
    "# bill_number_xpath = '/html/body/div[1]/div/main/div[1]/div[3]'\n",
    "# bill_number = driver.find_element_by_xpath(bill_number_xpath).text\n",
    "# bill_name_xpath = '/html/body/div[1]/div/main/div[2]/div[1]/a'\n",
    "# bill_name = driver.find_element_by_xpath(bill_name_xpath).text\n",
    "\n",
    "# # Retrieve bill sponsors, clean and transform\n",
    "# bill_sponsors_xpath = '/html/body/div[1]/div/main/div[3]/div[2]/div/div[4]'\n",
    "# bill_sponsors = driver.find_element_by_xpath(bill_sponsors_xpath).text\n",
    "# bill_sponsors_cleaned = bill_sponsors.replace('\\n', ';').replace('(Primary)', '')\n",
    "# bill_sponsors_individual = bill_sponsors_cleaned.split(';')\n",
    "# bill_sponsors_individual_cleaned = []\n",
    "# for ind in bill_sponsors_individual:\n",
    "#     bill_sponsors_individual_cleaned.append(ind.strip())\n",
    "\n",
    "# # Check which sponsor(s) is primary\n",
    "# bill_sponsors_dict = {}\n",
    "# for sp in bill_sponsors_individual_cleaned:\n",
    "#     if bill_sponsors.find(sp) < bill_sponsors.find('Primary'):\n",
    "#         bill_sponsors_dict[sp] = {'Primary':True}\n",
    "#     else:\n",
    "#         bill_sponsors_dict[sp] = {'Primary':False}\n",
    "        \n",
    "# # Retrieve bill attributes\n",
    "# bill_attributes_xpath = '/html/body/div[1]/div/main/div[3]/div[2]/div/div[6]'\n",
    "# bill_attributes = driver.find_element_by_xpath(bill_attributes_xpath).text\n",
    "# if bill_attributes.split(';')[0] == 'Public':\n",
    "#     bill_pub_loc = 'Public'\n",
    "# elif bill_attributes.split(';')[0] == 'Local':\n",
    "#     bill_pub_loc = 'Local'\n",
    "# else:\n",
    "#     bill_pub_loc = None\n",
    "\n",
    "# # Retrieve bill keywords\n",
    "# bill_keywords_xpath = '/html/body/div[1]/div/main/div[3]/div[2]/div/div[12]'\n",
    "# bill_keywords = driver.find_element_by_xpath(bill_keywords_xpath).text\n",
    "\n",
    "# # Store information about bill in dict\n",
    "# bill_dict = {}\n",
    "# bill_dict[bill_number] = {'Name':bill_name,\n",
    "#                           'Sponsors':bill_sponsors_dict,\n",
    "#                           'Breadth':bill_pub_loc,\n",
    "#                           'Keywords':bill_keywords}"
   ]
  },
  {
   "cell_type": "code",
   "execution_count": 38,
   "metadata": {},
   "outputs": [],
   "source": [
    "# Click to download pdf\n",
    "driver.find_element_by_xpath(bill_name_xpath).click()"
   ]
  },
  {
   "cell_type": "code",
   "execution_count": 39,
   "metadata": {},
   "outputs": [],
   "source": [
    "# Navigate back to bills list page\n",
    "driver.back()"
   ]
  },
  {
   "cell_type": "code",
   "execution_count": null,
   "metadata": {},
   "outputs": [],
   "source": [
    "# bill_dict['Senate Bill 861'].keys()"
   ]
  },
  {
   "cell_type": "code",
   "execution_count": null,
   "metadata": {},
   "outputs": [],
   "source": [
    "# bill_dict['Senate Bill 861']['Sponsors']['Marcus']['Primary']"
   ]
  },
  {
   "cell_type": "code",
   "execution_count": 43,
   "metadata": {},
   "outputs": [],
   "source": [
    "# Walk os to retrieve files from Downloads folder\n",
    "onlyfiles = [f for f in os.listdir(primary_bills_download_folder) if os.path.isfile(os.path.join(primary_bills_download_folder, f))]"
   ]
  },
  {
   "cell_type": "code",
   "execution_count": 47,
   "metadata": {},
   "outputs": [
    {
     "name": "stdout",
     "output_type": "stream",
     "text": [
      "Run function here...\n"
     ]
    }
   ],
   "source": [
    "target_file = []\n",
    "bill_num_as_str = bill_number.split(' ')[-1]\n",
    "for file in onlyfiles:\n",
    "    if bill_num_as_str in file:\n",
    "        target_file.append(file)\n",
    "\n",
    "if len(target_file) > 1:\n",
    "    print('Error, too many matching files...')\n",
    "elif len(target_file) == 0:\n",
    "    print('Error, zero matching files')\n",
    "elif len(target_file) == 1:\n",
    "    print('Run function here...')"
   ]
  },
  {
   "cell_type": "code",
   "execution_count": 51,
   "metadata": {},
   "outputs": [],
   "source": [
    "target_full_filepath = primary_bills_download_folder + '\\\\' + target_file[0]"
   ]
  },
  {
   "cell_type": "code",
   "execution_count": 52,
   "metadata": {},
   "outputs": [
    {
     "data": {
      "text/plain": [
       "'C:\\\\Users\\\\Dave\\\\Desktop\\\\Job Apps\\\\Legislative Assistant, Senator Marcus\\\\Marcus Primary Bills\\\\S797v1.pdf'"
      ]
     },
     "execution_count": 52,
     "metadata": {},
     "output_type": "execute_result"
    }
   ],
   "source": [
    "target_full_filepath"
   ]
  },
  {
   "cell_type": "markdown",
   "metadata": {},
   "source": [
    "## <font color='teal'>Extract from PDF</font>"
   ]
  },
  {
   "cell_type": "code",
   "execution_count": null,
   "metadata": {},
   "outputs": [],
   "source": [
    "# Set path of pdf to extract\n",
    "pdf_filepath = 'C:\\\\Users\\\\Dave\\\\Desktop\\\\Job Apps\\\\Legislative Assistant, Senator Marcus\\\\Marcus Primary Bills\\\\Election Protection Covid-19 Pandemic.pdf'"
   ]
  },
  {
   "cell_type": "code",
   "execution_count": null,
   "metadata": {},
   "outputs": [],
   "source": [
    "# Create pdf object and retrieve page count \n",
    "pdf = pydf.PdfFileReader(open(pdf_filepath, 'rb'))\n",
    "num_pages = pdf.getNumPages()"
   ]
  },
  {
   "cell_type": "code",
   "execution_count": null,
   "metadata": {},
   "outputs": [],
   "source": [
    "# Function to extract text from pdf, page by page, and write to dict\n",
    "def text_extractor(path):\n",
    "    pages_dict = {}\n",
    "    with open(pdf_filepath, 'rb') as file:\n",
    "        pdf = pydf.PdfFileReader(file)\n",
    "        for i in list(range(0, num_pages)):\n",
    "            page = pdf.getPage(i)\n",
    "            pages_dict[i+1] = page.extractText()\n",
    "    return pages_dict;"
   ]
  },
  {
   "cell_type": "code",
   "execution_count": null,
   "metadata": {},
   "outputs": [],
   "source": [
    "# Run function\n",
    "pages_dict = text_extractor(pdf_filepath)"
   ]
  },
  {
   "cell_type": "code",
   "execution_count": null,
   "metadata": {},
   "outputs": [],
   "source": [
    "# Function to concatenate text from pages to single string\n",
    "def page_compiler(pages_dict):\n",
    "    full_text = ''\n",
    "    for page in pages_dict.keys():\n",
    "        full_text = full_text + pages_dict[page]\n",
    "    return full_text;"
   ]
  },
  {
   "cell_type": "code",
   "execution_count": null,
   "metadata": {},
   "outputs": [],
   "source": [
    "# Run function\n",
    "full_text = page_compiler(pages_dict)"
   ]
  },
  {
   "cell_type": "code",
   "execution_count": null,
   "metadata": {},
   "outputs": [],
   "source": [
    "words_to_skip_list = ['a', 'the', 'an', 'of', 'be', 'to', 'when', 'where', 'which',\n",
    "                      'north', 'carolina', 'session']"
   ]
  },
  {
   "cell_type": "code",
   "execution_count": null,
   "metadata": {},
   "outputs": [],
   "source": [
    "test = re.findall(r'\\w+', full_text)"
   ]
  },
  {
   "cell_type": "code",
   "execution_count": null,
   "metadata": {},
   "outputs": [],
   "source": [
    "test_unique = list(set(test))"
   ]
  },
  {
   "cell_type": "code",
   "execution_count": null,
   "metadata": {},
   "outputs": [],
   "source": [
    "test_unique.sort(reverse=False)"
   ]
  },
  {
   "cell_type": "code",
   "execution_count": null,
   "metadata": {},
   "outputs": [],
   "source": [
    "word_counts_dict = {}\n",
    "for word in test_unique:\n",
    "    if word in words_to_skip_list:\n",
    "        print('Skipping {}'.format(word))\n",
    "    else:\n",
    "        count = full_text.count(word)\n",
    "        word_counts_dict[word] = count"
   ]
  },
  {
   "cell_type": "code",
   "execution_count": null,
   "metadata": {},
   "outputs": [],
   "source": [
    "test_df = pd.DataFrame.from_dict(word_counts_dict, orient='index', columns=['Count'])"
   ]
  },
  {
   "cell_type": "code",
   "execution_count": null,
   "metadata": {},
   "outputs": [],
   "source": [
    "test_df.sort_values('Count', ascending=False, inplace=True)"
   ]
  },
  {
   "cell_type": "code",
   "execution_count": null,
   "metadata": {},
   "outputs": [],
   "source": [
    "test_df[0:100]"
   ]
  },
  {
   "cell_type": "code",
   "execution_count": null,
   "metadata": {},
   "outputs": [],
   "source": [
    "# # Function to retrieve unique words in pdf, build counts of each word\n",
    "# def word_counter(pdf_string):\n",
    "    "
   ]
  },
  {
   "cell_type": "code",
   "execution_count": null,
   "metadata": {},
   "outputs": [],
   "source": [
    "test_string = \"Tutorials point is a learning platform\"\n",
    "# original string\n",
    "print (\"The original string is : \" + test_string)\n",
    "# using regex (findall()) function\n",
    "res = len(re.findall(r'\\w+', test_string))\n",
    "# total no of words\n",
    "print (\"The number of words in string are : \" + str(res))"
   ]
  },
  {
   "cell_type": "code",
   "execution_count": null,
   "metadata": {},
   "outputs": [],
   "source": [
    "re.findall(r'\\w+', test_string)"
   ]
  },
  {
   "cell_type": "code",
   "execution_count": null,
   "metadata": {},
   "outputs": [],
   "source": []
  }
 ],
 "metadata": {
  "kernelspec": {
   "display_name": "Python 3",
   "language": "python",
   "name": "python3"
  },
  "language_info": {
   "codemirror_mode": {
    "name": "ipython",
    "version": 3
   },
   "file_extension": ".py",
   "mimetype": "text/x-python",
   "name": "python",
   "nbconvert_exporter": "python",
   "pygments_lexer": "ipython3",
   "version": "3.7.6"
  }
 },
 "nbformat": 4,
 "nbformat_minor": 4
}
